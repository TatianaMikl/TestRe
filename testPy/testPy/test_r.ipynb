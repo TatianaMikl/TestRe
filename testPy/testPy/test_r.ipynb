{
 "cells": [
  {
   "cell_type": "code",
   "execution_count": 2,
   "id": "3221fa29-e50e-494a-a6ed-913aa5581271",
   "metadata": {},
   "outputs": [
    {
     "data": {
      "text/html": [
       "6"
      ],
      "text/latex": [
       "6"
      ],
      "text/markdown": [
       "6"
      ],
      "text/plain": [
       "[1] 6"
      ]
     },
     "metadata": {},
     "output_type": "display_data"
    }
   ],
   "source": [
    "2*3 # Multiplication"
   ]
  },
  {
   "cell_type": "code",
   "execution_count": 3,
   "id": "a46dd417-6d60-4b80-9fb7-b1a882f1fda1",
   "metadata": {},
   "outputs": [
    {
     "data": {
      "text/html": [
       "6"
      ],
      "text/latex": [
       "6"
      ],
      "text/markdown": [
       "6"
      ],
      "text/plain": [
       "[1] 6"
      ]
     },
     "metadata": {},
     "output_type": "display_data"
    }
   ],
   "source": [
    "2*3 # Multiplication"
   ]
  },
  {
   "cell_type": "code",
   "execution_count": 4,
   "id": "6ff8bb28-a5fe-4062-ae31-51b9e5517cfa",
   "metadata": {},
   "outputs": [
    {
     "data": {
      "text/html": [
       "3"
      ],
      "text/latex": [
       "3"
      ],
      "text/markdown": [
       "3"
      ],
      "text/plain": [
       "[1] 3"
      ]
     },
     "metadata": {},
     "output_type": "display_data"
    }
   ],
   "source": [
    "4-1"
   ]
  },
  {
   "cell_type": "code",
   "execution_count": 5,
   "id": "a76f9d5c-b06f-4376-be55-96c6a099a11d",
   "metadata": {},
   "outputs": [
    {
     "data": {
      "text/html": [
       "3"
      ],
      "text/latex": [
       "3"
      ],
      "text/markdown": [
       "3"
      ],
      "text/plain": [
       "[1] 3"
      ]
     },
     "metadata": {},
     "output_type": "display_data"
    }
   ],
   "source": [
    "a <- 1\n",
    "a+2"
   ]
  },
  {
   "cell_type": "code",
   "execution_count": 6,
   "id": "db10dd2d-3e39-409b-9f5a-3bef76b32a53",
   "metadata": {},
   "outputs": [
    {
     "name": "stdout",
     "output_type": "stream",
     "text": [
      "  Emp_Name  Job_role\n",
      "1      Jai   Manager\n",
      "2    David Team Lead\n",
      "3  Michael Developer\n"
     ]
    }
   ],
   "source": [
    "df = data.frame(Emp_Name = c(\"Jai\", \"David\", \"Michael\"),\n",
    "                Job_role = c(\"Manager\", \"Team Lead\", \"Developer\" )\n",
    "               )\n",
    "print(df)"
   ]
  },
  {
   "cell_type": "code",
   "execution_count": null,
   "id": "ce5e0e20-8250-4d9e-8668-fdcc5edb3577",
   "metadata": {},
   "outputs": [],
   "source": []
  }
 ],
 "metadata": {
  "kernelspec": {
   "display_name": "R",
   "language": "R",
   "name": "ir"
  },
  "language_info": {
   "codemirror_mode": "r",
   "file_extension": ".r",
   "mimetype": "text/x-r-source",
   "name": "R",
   "pygments_lexer": "r",
   "version": "3.6.1"
  }
 },
 "nbformat": 4,
 "nbformat_minor": 5
}
